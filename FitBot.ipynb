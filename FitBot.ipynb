{
 "cells": [
  {
   "cell_type": "code",
   "execution_count": null,
   "metadata": {
    "id": "PX2YxatQ3F4Z"
   },
   "outputs": [],
   "source": [
    "!pip install transformers -i https://pypi.python.org/simple"
   ]
  },
  {
   "cell_type": "code",
   "execution_count": 3,
   "metadata": {
    "colab": {
     "base_uri": "https://localhost:8080/"
    },
    "executionInfo": {
     "elapsed": 73949,
     "status": "ok",
     "timestamp": 1616073837922,
     "user": {
      "displayName": "András Balaton",
      "photoUrl": "",
      "userId": "16262927735957222233"
     },
     "user_tz": -60
    },
    "id": "TTkH_FDA17Vv",
    "outputId": "9325a3f9-62f1-4d7b-e5e6-148476213b47"
   },
   "outputs": [
    {
     "name": "stdout",
     "output_type": "stream",
     "text": [
      "FitBot: Hey, I am FitBot, your personal fitness assistant and I am specialized in Crossfit and strength training.\n",
      "\n",
      "FitBot: How can I help you?\n",
      "\n",
      "User: What is crossfit? \n",
      "\n",
      "Fitbot:  a core strength and conditioning program \n",
      "\n",
      "User: What does a typical workout consist of? \n",
      "\n",
      "Fitbot:  isolation movements and extended aerobic sessions \n",
      "\n",
      "FitBot: Thanks for the conversation, have a nice day!\n"
     ]
    }
   ],
   "source": [
    "from transformers import BertForQuestionAnswering, AutoTokenizer\n",
    "from transformers import pipeline\n",
    "\n",
    "modelname = 'deepset/bert-base-cased-squad2'\n",
    "\n",
    "model = BertForQuestionAnswering.from_pretrained(modelname)\n",
    "tokenizer = AutoTokenizer.from_pretrained(modelname)\n",
    "nlp = pipeline('question-answering', model=model, tokenizer=tokenizer)\n",
    "\n",
    "with open('chatbot_training.txt', 'r') as file:\n",
    "    context = file.read().replace('\\n', '')\n",
    "\n",
    "print(\"FitBot: Hey, I am FitBot, your personal fitness assistant and I am specialized in Crossfit and strength training.\\n\")\n",
    "print(\"FitBot: How can I help you?\\n\")\n",
    "   \n",
    "question1 = 'What is crossfit?'\n",
    "\n",
    "print('User:', question1,'\\n')\n",
    "\n",
    "prediction = nlp({'question': question1,'context': context})\n",
    "\n",
    "answer1 = prediction['answer']\n",
    "\n",
    "print('Fitbot: ', answer1,'\\n')\n",
    "\n",
    "question2 = 'What does a typical workout consist of?'\n",
    "\n",
    "print('User:', question2,'\\n')\n",
    "\n",
    "prediction = nlp({'question': question2,'context': context})\n",
    "\n",
    "answer2 = prediction['answer']\n",
    "\n",
    "print('Fitbot: ', answer2,'\\n')\n",
    "\n",
    "print('FitBot: Thanks for the conversation, have a nice day!')\n"
   ]
  }
 ],
 "metadata": {
  "colab": {
   "authorship_tag": "ABX9TyOAPR3AQxDExCtfkvn+sJmq",
   "collapsed_sections": [],
   "name": "FitBot.ipynb",
   "provenance": []
  },
  "kernelspec": {
   "display_name": "Python 3",
   "language": "python",
   "name": "python3"
  },
  "language_info": {
   "codemirror_mode": {
    "name": "ipython",
    "version": 3
   },
   "file_extension": ".py",
   "mimetype": "text/x-python",
   "name": "python",
   "nbconvert_exporter": "python",
   "pygments_lexer": "ipython3",
   "version": "3.8.5"
  }
 },
 "nbformat": 4,
 "nbformat_minor": 1
}
